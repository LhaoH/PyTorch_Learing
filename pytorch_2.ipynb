{
 "cells": [
  {
   "cell_type": "markdown",
   "id": "3cebc8f8",
   "metadata": {},
   "source": [
    "# 多层全连接前向网络"
   ]
  },
  {
   "cell_type": "markdown",
   "id": "c4e1d910",
   "metadata": {},
   "source": [
    "## 多层全连接神经网络实现MNIST手写数字分类"
   ]
  },
  {
   "cell_type": "code",
   "execution_count": 2,
   "id": "18607ebe",
   "metadata": {},
   "outputs": [],
   "source": [
    "from torch import nn\n",
    "# 定义三层全连接神经网络\n",
    "class simpleNet(nn.Module):\n",
    "    def __init__(self,in_dim,n_hidden1,n_hidden2,out_dim):\n",
    "        super(simpleNet,self).__init__()\n",
    "        self.layer1 = nn.Linear(in_dim,n_hidden1)\n",
    "        self.layer2 = nn.Linear(n_hidden1,n_hidden2)\n",
    "        self.layer3 = nn.Linear(n_hidden2,out_dim)\n",
    "        \n",
    "    def forward(self,x):\n",
    "        x = self.layer1(x)\n",
    "        x = self.layer2(x)\n",
    "        x = self.layer3(x)\n",
    "        return x"
   ]
  },
  {
   "cell_type": "code",
   "execution_count": 3,
   "id": "2325c45b",
   "metadata": {},
   "outputs": [],
   "source": [
    "# 添加激活函数\n",
    "class Activation_Net(nn.Module):\n",
    "    def __init__(self,in_dim,n_hidden1,n_hidden2,out_dim):\n",
    "        super(Activation_Net,self).__init__()\n",
    "        # Sequential是将网络的层组合到一起\n",
    "        self.layer1 = nn.Sequential(\n",
    "            nn.Linear(in_dim,n_hidden1),\n",
    "            nn.ReLU(True)\n",
    "        )\n",
    "        self.layer2 = nn.Sequential(\n",
    "            nn.Linear(n_hidden1,n_hidden2),\n",
    "            nn.ReLU(True)\n",
    "        )\n",
    "        # 输出层不能添加激活函数\n",
    "        self.layer3 = nn.Sequential(nn.Linear(n_hidden2,out_dim))\n",
    "    \n",
    "    def forward(self,x):\n",
    "        x = self.layer1(x)\n",
    "        x = self.layer2(x)\n",
    "        x = self.layer3(x)\n",
    "        return x\n",
    "        "
   ]
  },
  {
   "cell_type": "code",
   "execution_count": 6,
   "id": "c9c3edd7",
   "metadata": {},
   "outputs": [],
   "source": [
    "# 添加激活函数\n",
    "class Batch_Net(nn.Module):\n",
    "    def __init__(self,in_dim,n_hidden1,n_hidden2,out_dim):\n",
    "        super(Batch_Net,self).__init__()\n",
    "        self.layer1 = nn.Sequential(\n",
    "            nn.Linear(in_dim,n_hidden1),\n",
    "            # 批标准化一般放在全连接的后面，激活函数的前面\n",
    "            nn.BatchNorm1d(n_hiddn1),\n",
    "            nn.ReLU(True)\n",
    "        )\n",
    "        self.layer2 = nn.Sequential(\n",
    "            nn.Linear(n_hidden1,n_hidden2),\n",
    "            nn.BatchNorm1d(n_hiddn2),\n",
    "            nn.ReLU(True)\n",
    "        )\n",
    "        # 输出层不能添加激活函数\n",
    "        self.layer3 = nn.Sequential(nn.Linear(n_hidden2,out_dim))\n",
    "        \n",
    "    def forward(self,x):\n",
    "        x = self.layer1(x)\n",
    "        x = self.layer2(x)\n",
    "        x = self.layer3(x)\n",
    "        return x"
   ]
  },
  {
   "cell_type": "code",
   "execution_count": 1,
   "id": "17d560ea",
   "metadata": {},
   "outputs": [],
   "source": [
    "# 训练网络 MNIST数据集：0-9 55000张训练集，10000张测试集,5000验证集 28*28 灰度图\n",
    "import torch\n",
    "from torch import nn,optim\n",
    "from torch.autograd import Variable\n",
    "from torch.utils.data import DataLoader\n",
    "from torchvision import datasets,transforms\n",
    "\n",
    "import net # 这个是之前定义的simpleNet网络\n",
    "\n"
   ]
  },
  {
   "cell_type": "code",
   "execution_count": 2,
   "id": "bbe8628f",
   "metadata": {},
   "outputs": [],
   "source": [
    "# 定义超参数\n",
    "batch_size = 64\n",
    "learning_rate = 1e-2\n",
    "num_epoches = 20"
   ]
  },
  {
   "cell_type": "code",
   "execution_count": 3,
   "id": "70887d00",
   "metadata": {},
   "outputs": [],
   "source": [
    "# 数据标准化\n",
    "# transforms.ToTensor() 就是将图片转换为PyTorch中处理的对象Tensor，自动将图像标准化\n",
    "# transforms.Normalize(),需要传入两个参数，一个是均值，一个是方差。处理是减去均值，除以方差\n",
    "# transforms.Compose将各种预处理操作组合在一起\n",
    "data_tf = transforms.Compose(\n",
    "    [transforms.ToTensor(),\n",
    "    transforms.Normalize([0.5],[0.5])] # 将图片转化为-1到1之间 灰度图 单通道\n",
    ")\n"
   ]
  },
  {
   "cell_type": "code",
   "execution_count": 4,
   "id": "d3734b4c",
   "metadata": {},
   "outputs": [],
   "source": [
    "# 读取数据集\n",
    "train_dataset = datasets.MNIST(\n",
    "    root='./data',train=True,transform=data_tf,download=True)\n",
    "test_dataset = datasets.MNIST(root='./data',train=False,transform=data_tf)\n",
    "train_loader = DataLoader(train_dataset,batch_size=batch_size,shuffle=True)\n",
    "test_loader = DataLoader(test_dataset,batch_size=batch_size,shuffle=False)"
   ]
  },
  {
   "cell_type": "code",
   "execution_count": 6,
   "id": "adfb2c75",
   "metadata": {},
   "outputs": [],
   "source": [
    "# 导入网络，定义损失函数和优化方法\n",
    "model = net.simpleNet(28*28,300,100,10) # 输入维度28*28，最后输出结果必须是10，因为这是个分类问题，0-9 这10个数字，10分类\n",
    "if torch.cuda.is_available():\n",
    "    model = model.cuda()\n",
    "    \n",
    "criterion = nn.CrossEntropyLoss()\n",
    "optimizer = optim.SGD(model.parameters(),lr = learning_rate)\n"
   ]
  },
  {
   "cell_type": "code",
   "execution_count": 22,
   "id": "25d9a8a7",
   "metadata": {},
   "outputs": [
    {
     "name": "stdout",
     "output_type": "stream",
     "text": [
      "epoch is 1,Train Loss : 0.065797,Acc is 0.978833\n",
      "epoch is 2,Train Loss : 0.059826,Acc is 0.981133\n",
      "epoch is 3,Train Loss : 0.056155,Acc is 0.982100\n",
      "epoch is 4,Train Loss : 0.052137,Acc is 0.983850\n",
      "epoch is 5,Train Loss : 0.048715,Acc is 0.984450\n",
      "epoch is 6,Train Loss : 0.047643,Acc is 0.984567\n",
      "epoch is 7,Train Loss : 0.044675,Acc is 0.985750\n",
      "epoch is 8,Train Loss : 0.043586,Acc is 0.985750\n",
      "epoch is 9,Train Loss : 0.040834,Acc is 0.986800\n",
      "epoch is 10,Train Loss : 0.036825,Acc is 0.988517\n",
      "epoch is 11,Train Loss : 0.036058,Acc is 0.988133\n",
      "epoch is 12,Train Loss : 0.033897,Acc is 0.988983\n",
      "epoch is 13,Train Loss : 0.032842,Acc is 0.989550\n",
      "epoch is 14,Train Loss : 0.031238,Acc is 0.989683\n",
      "epoch is 15,Train Loss : 0.028138,Acc is 0.990833\n",
      "epoch is 16,Train Loss : 0.027085,Acc is 0.991033\n",
      "epoch is 17,Train Loss : 0.026385,Acc is 0.991583\n",
      "epoch is 18,Train Loss : 0.025478,Acc is 0.992000\n",
      "epoch is 19,Train Loss : 0.023766,Acc is 0.991883\n",
      "epoch is 20,Train Loss : 0.021904,Acc is 0.992900\n"
     ]
    }
   ],
   "source": [
    "# 训练 首先循环epoch，将数据转为Variable并放入cuda\n",
    "# losses = []\n",
    "# acces = []\n",
    "for epoch in range(num_epoches):\n",
    "    train_loss = 0\n",
    "    train_acc = 0\n",
    "    for data in train_loader:\n",
    "        img,label = data\n",
    "        # img.size(0)指 将Tensor转为1维。这个-1指的是不知道多少列的情况下，根据原来Tensor内容和Tensor的大小自动分配列数\n",
    "        # 还可以将行数不定（为1），指定列数为Tensor的大小： a.view(-1, a.size(0))\n",
    "        img = img.view(img.size(0),-1)\n",
    "        if torch.cuda.is_available():\n",
    "            img = Variable(img).cuda()\n",
    "            label = Variable(label).cuda()\n",
    "        else:\n",
    "            img = Variable(img)\n",
    "            label = Variable(label)\n",
    "            \n",
    "        #forward 计算out ,loss,,acc\n",
    "        out = model(img)\n",
    "        loss = criterion(out,label)\n",
    "        # print_loss = loss.item()*label.size(0)\n",
    "        # 记录误差\n",
    "        train_loss += loss.item()*label.size(0)\n",
    "\n",
    "        # torch.max()这个函数返回的是两个值，第一个值是具体的value（用下划线_表示），第二个值是value所在的index（也就是pred）,而我们只关心第二个值，也就是pred，因为后面要用pred值来与label进行比较，来表示预测的正确与否，第一个值（概率）对我们而言并不重要，所以用下划线代替（当然可以用别的东西代替），习惯上都是用下划线来表示不关心的类别。\n",
    "        _,pred = torch.max(out,1)\n",
    "        correct = (pred == label).sum()\n",
    "        acc = correct.item()\n",
    "        train_acc += acc\n",
    "        #backward 优化梯度归零，损失反向传播，优化下一步\n",
    "        optimizer.zero_grad()\n",
    "        loss.backward()\n",
    "        optimizer.step()\n",
    "        \n",
    "#     losses.append(train_loss / len(train_dataset))\n",
    "#     acces.append(train_acc / len(train_dataset))\n",
    "    #输出\n",
    "    print('epoch is {},Train Loss : {:.6f},Train Acc is {:.6f}'.format((epoch+1),train_loss/len(train_dataset),train_acc/len(train_dataset)))\n"
   ]
  },
  {
   "cell_type": "code",
   "execution_count": 23,
   "id": "5f4ae008",
   "metadata": {},
   "outputs": [
    {
     "name": "stdout",
     "output_type": "stream",
     "text": [
      "Test Loss : 0.093930,Acc is 0.975100\n"
     ]
    }
   ],
   "source": [
    "# 验证\n",
    "model.eval()\n",
    "eval_loss = 0\n",
    "eval_acc = 0\n",
    "for data in test_loader:\n",
    "        img,label = data\n",
    "        # img.size(0)指 将Tensor转为1维。这个-1指的是不知道多少列的情况下，根据原来Tensor内容和Tensor的大小自动分配列数\n",
    "        # 还可以将行数不定（为1），指定列数为Tensor的大小： a.view(-1, a.size(0))\n",
    "        img = img.view(img.size(0),-1)\n",
    "        if torch.cuda.is_available():\n",
    "            img = Variable(img).cuda()\n",
    "            label = Variable(label).cuda()\n",
    "        else:\n",
    "            img = Variable(img)\n",
    "            label = Variable(label)\n",
    "            \n",
    "        #forward 计算out ,loss,,acc\n",
    "        out = model(img)\n",
    "        loss = criterion(out,label)\n",
    "        # print_loss = loss.item()*label.size(0)\n",
    "        # 记录误差\n",
    "        eval_loss += loss.item()*label.size(0)\n",
    "\n",
    "        # torch.max()这个函数返回的是两个值，第一个值是具体的value（用下划线_表示），第二个值是value所在的index（也就是pred）,而我们只关心第二个值，也就是pred，因为后面要用pred值来与label进行比较，来表示预测的正确与否，第一个值（概率）对我们而言并不重要，所以用下划线代替（当然可以用别的东西代替），习惯上都是用下划线来表示不关心的类别。\n",
    "        _,pred = torch.max(out,1)\n",
    "        correct = (pred == label).sum()\n",
    "        acc = correct.item()\n",
    "        eval_acc += acc\n",
    "\n",
    "        \n",
    "#     losses.append(train_loss / len(train_dataset))\n",
    "#     acces.append(train_acc / len(train_dataset))\n",
    "    #输出\n",
    "print('Test Loss : {:.6f},Test Acc is {:.6f}'.format(eval_loss/len(test_dataset),eval_acc/len(test_dataset)))\n"
   ]
  }
 ],
 "metadata": {
  "kernelspec": {
   "display_name": "control",
   "language": "python",
   "name": "control"
  },
  "language_info": {
   "codemirror_mode": {
    "name": "ipython",
    "version": 3
   },
   "file_extension": ".py",
   "mimetype": "text/x-python",
   "name": "python",
   "nbconvert_exporter": "python",
   "pygments_lexer": "ipython3",
   "version": "3.8.5"
  }
 },
 "nbformat": 4,
 "nbformat_minor": 5
}
